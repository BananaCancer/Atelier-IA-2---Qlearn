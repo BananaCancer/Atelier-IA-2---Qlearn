{
 "cells": [
  {
   "cell_type": "markdown",
   "metadata": {},
   "source": [
    "# Script pour rejouer un certain modèle de Q-learning\n",
    "Source: https://medium.com/@www.seymour/training-an-ai-to-play-a-game-using-deep-reinforcement-learning-b63534cfdecd\n",
    "\n",
    "Dans ce script, il n'y a qu'à changer le numéro et chemin du modèle pour ensuite voir le rendu de l'agent"
   ]
  },
  {
   "cell_type": "markdown",
   "metadata": {},
   "source": [
    "### Imports"
   ]
  },
  {
   "cell_type": "code",
   "execution_count": 110,
   "metadata": {},
   "outputs": [],
   "source": [
    "import numpy as np\n",
    "import os\n",
    "import sys\n",
    "module_path = os.path.abspath(os.path.join('..'))\n",
    "if module_path not in sys.path:\n",
    "    sys.path.append(module_path)\n",
    "from src import ql, game, record, env\n",
    "\n",
    "import importlib\n",
    "importlib.reload(game)\n",
    "importlib.reload(ql)\n",
    "importlib.reload(env)\n",
    "\n",
    "import pygame"
   ]
  },
  {
   "cell_type": "markdown",
   "metadata": {},
   "source": [
    "### Modèle à charger"
   ]
  },
  {
   "cell_type": "code",
   "execution_count": 111,
   "metadata": {},
   "outputs": [],
   "source": [
    "model_dir = os.path.join(\"..\", \"simulations\", \"2024-04-18 1757\", \"models\")\n",
    "video_dir = \"video\"\n",
    "model_name = \"q_table_final\"\n",
    "record_video = False\n",
    "WINDOW_WIDTH = 360\n",
    "WINDOW_HEIGHT = 360"
   ]
  },
  {
   "cell_type": "markdown",
   "metadata": {},
   "source": [
    "### Chargement des éléments de jeu"
   ]
  },
  {
   "cell_type": "code",
   "execution_count": 112,
   "metadata": {},
   "outputs": [],
   "source": [
    "\n",
    "#game = \"CliffWalking-v0\"\n",
    "#game = \"Catcher\"\n",
    "game = \"FrozenLake-v1\"\n",
    "#game = \"Taxi-v3\"\n",
    "if game == \"Catcher\":\n",
    "    env = env.env(game)\n",
    "else:\n",
    "    env = env.env(game, render_mode=\"human\")\n",
    "agent = ql.QLearning(\n",
    "    state_size=env.state_space,\n",
    "    action_size=env.action_space\n",
    ")\n",
    "agent.load(os.path.join(model_dir, f\"{model_name}.npy\"))"
   ]
  },
  {
   "cell_type": "markdown",
   "metadata": {},
   "source": [
    "### Script de replay"
   ]
  },
  {
   "cell_type": "code",
   "execution_count": 113,
   "metadata": {},
   "outputs": [],
   "source": [
    "state = env.reset()\n",
    "\n",
    "pygame.init()\n",
    "if game == \"Catcher\":\n",
    "    screen = pygame.display.set_mode((WINDOW_WIDTH, WINDOW_HEIGHT))\n",
    "else:\n",
    "    screen = None\n",
    "clock = pygame.time.Clock()\n",
    "running = True\n",
    "score = 0\n",
    "\n",
    "recorder = None\n",
    "if record_video:\n",
    "    recorder = record.ScreenRecorder(WINDOW_WIDTH, WINDOW_HEIGHT, env.env.FPS, f\"{video_dir}_{model_name}.avi\")\n",
    "\n",
    "while running:\n",
    "    pygame.display.set_caption(f\"Score: {score}\")\n",
    "\n",
    "    for event in pygame.event.get():\n",
    "        if event.type == pygame.QUIT:\n",
    "            running = False\n",
    "\n",
    "    action = agent.act(state, 0)\n",
    "    state, reward, done, score = env.step(action)\n",
    "\n",
    "    env.render(screen)\n",
    "    pygame.display.flip()\n",
    "    clock.tick(15)\n",
    "\n",
    "    if record_video:\n",
    "        recorder.capture_frame(screen)\n",
    "    if game != \"Catcher\" and done:\n",
    "        break\n",
    "\n",
    "pygame.quit()\n",
    "if record_video:\n",
    "    recorder.end_recording()"
   ]
  }
 ],
 "metadata": {
  "kernelspec": {
   "display_name": "Python 3",
   "language": "python",
   "name": "python3"
  },
  "language_info": {
   "codemirror_mode": {
    "name": "ipython",
    "version": 3
   },
   "file_extension": ".py",
   "mimetype": "text/x-python",
   "name": "python",
   "nbconvert_exporter": "python",
   "pygments_lexer": "ipython3",
   "version": "3.7.0"
  },
  "orig_nbformat": 4
 },
 "nbformat": 4,
 "nbformat_minor": 2
}
